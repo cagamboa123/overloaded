{
 "cells": [
  {
   "cell_type": "code",
   "execution_count": null,
   "metadata": {},
   "outputs": [],
   "source": [
    "//You wrote a function for a teacher that averages\n",
    "//two intger grades and returns the average as an integer."
   ]
  },
  {
   "cell_type": "code",
   "execution_count": null,
   "metadata": {},
   "outputs": [],
   "source": [
    "#include <iostream>\n",
    "using namespace std;"
   ]
  },
  {
   "cell_type": "code",
   "execution_count": null,
   "metadata": {},
   "outputs": [],
   "source": [
    "int gradeAve(int grade1,int grade2){\n",
    "  int average = (grade1 + grade2)/2;\n",
    "  return average;\n",
    "}"
   ]
  },
  {
   "cell_type": "code",
   "execution_count": null,
   "metadata": {
    "scrolled": false
   },
   "outputs": [],
   "source": [
    "cout<<\"Average = \" << gradeAve(98, 45)<<\"\\n\";"
   ]
  },
  {
   "cell_type": "code",
   "execution_count": null,
   "metadata": {},
   "outputs": [],
   "source": [
    "//Another teacher saw the function and wants to use it. \n",
    "//But this teacher uses a different grading scale and needs\n",
    "//to insert floats and return the average as a float. \n",
    "//So you write the function with floats. "
   ]
  },
  {
   "cell_type": "code",
   "execution_count": null,
   "metadata": {},
   "outputs": [],
   "source": [
    "float aveGradeFloat(float fgrade1,float fgrade2){\n",
    "  float average = (fgrade1 + fgrade2)/2;\n",
    "  return average;\n",
    "}"
   ]
  },
  {
   "cell_type": "code",
   "execution_count": null,
   "metadata": {},
   "outputs": [],
   "source": [
    "cout<<\"Average = \" << aveGradeFloat(51.5, 40.8)<<\"\\n\";"
   ]
  },
  {
   "cell_type": "code",
   "execution_count": null,
   "metadata": {},
   "outputs": [],
   "source": [
    "//Another teacher wants to use the function. This teacher uses\n",
    "//letter grades. So... you rewrite the function again. "
   ]
  },
  {
   "cell_type": "code",
   "execution_count": null,
   "metadata": {},
   "outputs": [],
   "source": [
    "int convertGrade(char cgrade1){\n",
    "int g1 = 0;\n",
    "switch(cgrade1){\n",
    "          case 'A':\n",
    "              g1=4;\n",
    "              break;\n",
    "          case 'B':\n",
    "              g1=3;\n",
    "              break;\n",
    "          case 'C':\n",
    "              g1=2;\n",
    "              break;\n",
    "          case 'D':\n",
    "              g1=1;\n",
    "              break;\n",
    "          case 'F':\n",
    "              g1=0;\n",
    "              break;\n",
    "  }\n",
    "    return g1;\n",
    "}"
   ]
  },
  {
   "cell_type": "code",
   "execution_count": null,
   "metadata": {},
   "outputs": [],
   "source": [
    "char convertToLetter(int average){\n",
    "    char ave;\n",
    "      switch(average){\n",
    "          case 4:\n",
    "              ave='A';\n",
    "              break;\n",
    "          case 3:\n",
    "              ave='B';\n",
    "              break;\n",
    "          case 2:\n",
    "              ave='C';\n",
    "              break;\n",
    "          case 1:\n",
    "              ave='D';\n",
    "              break;\n",
    "          case 0:\n",
    "              ave='F';\n",
    "              break;\n",
    "  }\n",
    "    return ave;\n",
    "}"
   ]
  },
  {
   "cell_type": "code",
   "execution_count": null,
   "metadata": {},
   "outputs": [],
   "source": [
    "char aveGradeChar(char cgrade1,char cgrade2){\n",
    "    int g1 = convertGrade(cgrade1);\n",
    "    int g2 = convertGrade(cgrade2);\n",
    "    int average = (g1 + g2)/2;\n",
    "    char ave = convertToLetter(average);\n",
    "    return ave;\n",
    "}"
   ]
  },
  {
   "cell_type": "code",
   "execution_count": null,
   "metadata": {},
   "outputs": [],
   "source": [
    "cout<<\"Average = \" << aveGradeChar('A','C')<<\"\\n\";"
   ]
  },
  {
   "cell_type": "code",
   "execution_count": null,
   "metadata": {},
   "outputs": [],
   "source": [
    "//This is so confusing. It would be nice to just have one \n",
    "//function for all the cases. "
   ]
  },
  {
   "cell_type": "code",
   "execution_count": null,
   "metadata": {},
   "outputs": [],
   "source": [
    "//Create a class for the functions\n",
    "//Use the same name for all the functions\n",
    "//Make the functions public members of the class"
   ]
  },
  {
   "cell_type": "code",
   "execution_count": null,
   "metadata": {},
   "outputs": [],
   "source": [
    "class ag{\n",
    "public:\n",
    "    int aveGrade(int igrade1,int igrade2);\n",
    "    float aveGrade(float fgrade1,float fgrade2);\n",
    "    char aveGrade(char cgrade1,char cgrade2);\n",
    "};"
   ]
  },
  {
   "cell_type": "code",
   "execution_count": null,
   "metadata": {},
   "outputs": [],
   "source": [
    "//Define each function in the class"
   ]
  },
  {
   "cell_type": "code",
   "execution_count": null,
   "metadata": {},
   "outputs": [],
   "source": [
    "int ag::aveGrade(int igrade1,int igrade2){\n",
    "  int average = (igrade1 + igrade2)/2;\n",
    "  return average;\n",
    "}"
   ]
  },
  {
   "cell_type": "code",
   "execution_count": null,
   "metadata": {},
   "outputs": [],
   "source": [
    "float ag::aveGrade(float fgrade1,float fgrade2){\n",
    "  float average = (fgrade1 + fgrade2)/2;\n",
    "  return average;\n",
    "};"
   ]
  },
  {
   "cell_type": "code",
   "execution_count": null,
   "metadata": {},
   "outputs": [],
   "source": [
    "int convertToInt(char grade){\n",
    "\tint g1 = 0;\n",
    "  switch(grade){\n",
    "          case 'A':\n",
    "              g1=4;\n",
    "              break;\n",
    "          case 'B':\n",
    "              g1=3;\n",
    "              break;\n",
    "          case 'C':\n",
    "              g1=2;\n",
    "              break;\n",
    "          case 'D':\n",
    "              g1=1;\n",
    "              break;\n",
    "          case 'F':\n",
    "              g1=0;\n",
    "              break;\n",
    "  }\n",
    "  return g1;\n",
    "}"
   ]
  },
  {
   "cell_type": "code",
   "execution_count": null,
   "metadata": {},
   "outputs": [],
   "source": [
    "char convertToChar(int average){\n",
    "\t char ave = 0;\n",
    "\t switch(average){\n",
    "          case 4:\n",
    "              ave='A';\n",
    "              break;\n",
    "          case 3:\n",
    "              ave='B';\n",
    "              break;\n",
    "          case 2:\n",
    "              ave='C';\n",
    "              break;\n",
    "          case 1:\n",
    "              ave='D';\n",
    "              break;\n",
    "          case 0:\n",
    "              ave='F';\n",
    "              break;\n",
    "\t}\n",
    "\treturn ave;\n",
    "}"
   ]
  },
  {
   "cell_type": "code",
   "execution_count": null,
   "metadata": {},
   "outputs": [],
   "source": [
    "char ag::aveGrade(char cgrade1,char cgrade2){\n",
    "    int g1 = 0;\n",
    "    int g2 = 0;\n",
    "    g1 = convertToInt(cgrade1);\n",
    "    g2 = convertToInt(cgrade2);\n",
    "    int average = (g1 + g2)/2;\n",
    "    char ave = convertToChar(average);\n",
    "    std::cout<<ave<<\"\\n\";\n",
    "  return ave;\n",
    "}"
   ]
  },
  {
   "cell_type": "code",
   "execution_count": null,
   "metadata": {
    "scrolled": true
   },
   "outputs": [],
   "source": [
    "ag a;\n",
    "int g1 = 98;\n",
    "int g2 = 45; \n",
    "float g3 = 51.5;\n",
    "float g4 = 40.8;\n",
    "char g5 = 'A';\n",
    "char g6 = 'C';\n",
    "\n",
    "int gr1 = a.aveGrade(g1, g2);\n",
    "float grf = a.aveGrade(g3, g4);\n",
    "char grc = a.aveGrade(g5, g6);\n",
    "\n",
    "cout<<gr1<<\"\\n\";\n",
    "cout<<grf<<\"\\n\";\n",
    "cout<<grc<<\"\\n\";"
   ]
  }
 ],
 "metadata": {
  "kernelspec": {
   "display_name": "C++11",
   "language": "C++11",
   "name": "xeus-cling-cpp11"
  },
  "language_info": {
   "codemirror_mode": "text/x-c++src",
   "file_extension": ".cpp",
   "mimetype": "text/x-c++src",
   "name": "c++",
   "version": "-std=c++11"
  }
 },
 "nbformat": 4,
 "nbformat_minor": 2
}
